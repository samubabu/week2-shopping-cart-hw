{
 "cells": [
  {
   "cell_type": "markdown",
   "metadata": {},
   "source": [
    "### Weekend Shopping cart HW"
   ]
  },
  {
   "cell_type": "markdown",
   "metadata": {},
   "source": [
    "1) Takes in input\n",
    "2) Stores user input into a dictionary or list\n",
    "3) The User can add or delete items\n",
    "4) The User can see current shopping list\n",
    "5) The program Loops until user 'quits'\n",
    "6) Upon quiting the program, print out all items in the user's list"
   ]
  },
  {
   "cell_type": "code",
   "execution_count": null,
   "metadata": {
    "scrolled": true
   },
   "outputs": [
    {
     "name": "stdout",
     "output_type": "stream",
     "text": [
      "1. Add item 2. Delete item 3. Current items 4.Quit\n",
      "Enter item:1\n",
      "Type the item you want to add to cart:apple\n",
      "Type the quantity of item you want to add to cart:5\n",
      "Enter the price per quantity:10\n",
      "1. Add item 2. Delete item 3. Current items 4.Quit\n",
      "Enter item:1\n",
      "Type the item you want to add to cart:banana\n",
      "Type the quantity of item you want to add to cart:5\n",
      "Enter the price per quantity:10\n",
      "1. Add item 2. Delete item 3. Current items 4.Quit\n",
      "Enter item:1\n",
      "Type the item you want to add to cart:melon\n",
      "Type the quantity of item you want to add to cart:5\n",
      "Enter the price per quantity:10\n",
      "1. Add item 2. Delete item 3. Current items 4.Quit\n"
     ]
    }
   ],
   "source": [
    "#create SHOPPING CART empty list\n",
    "\n",
    "\n",
    "quantities=[]\n",
    "cart=[]\n",
    "prices=[]\n",
    "    \n",
    "#run a loop until shopper quits\n",
    "while True:\n",
    "    print(\"1. Add item 2. Delete item 3. Current items 4.Quit\")\n",
    "#ask user to enter in cart\n",
    "    prompt=int(input(\"Enter item:\"))\n",
    "#if entered 1 then add item to the cart/list\n",
    "    if (prompt==1):\n",
    "        item=input(\"Type the item you want to add to cart:\")\n",
    "        cart.append(item)\n",
    "        quantity=int(input(\"Type the quantity of item you want to add to cart:\"))\n",
    "        quantities.append(quantity)\n",
    "        price=int(input(\"Enter the price per quantity:\"))\n",
    "        prices.append(price)\n",
    "        \n",
    "#if entered 2 then delelte item from the cart/list\n",
    "    elif(prompt==2):\n",
    "        item=input(\"Type the item you want to delete:\")\n",
    "        cart.remove(item)\n",
    "        quantity=int(input(\"Type the quantity of item you want to delete from cart:\"))\n",
    "        quantities.remove(quantity)\n",
    "        price=int(input(\"Enter the price per quantity:\"))\n",
    "        prices.remove(price)\n",
    "#if entered 3 then print the Current cart list\n",
    "    elif(prompt==3):\n",
    "        print('Item in your cart:')\n",
    "        \n",
    "#for quantity,item,price in cart:\n",
    "        print('ITEM','QUANTITY','PRICE','UNIT TOT', sep=\"\\t\\t\\t\")\n",
    "        total=0\n",
    "        for kk in range(len(cart)):\n",
    "            total+=quantities[kk]*prices[kk]\n",
    "            print(cart[kk],quantities[kk],prices[kk],quantities[kk]*prices[kk],sep=\"\\t\\t\\t\\t\")\n",
    "            #format_cart(quantity,item,price)\n",
    "           \n",
    "        print(\"Thank you for shopping with us!,Yout Total is\", total)\n",
    "        #and break the loop\n",
    "        break;\n",
    "    elif(prompt==4):\n",
    "        print(\"Thank you, please come back and shop with us again!!\")\n",
    "        # and break the loop\n",
    "        break;\n",
    "#if entered anything else, the print invalid choice\n",
    "    else:\n",
    "        print(\"Invalid Choice\")"
   ]
  },
  {
   "cell_type": "markdown",
   "metadata": {},
   "source": [
    "### REWORK W/ DICT"
   ]
  },
  {
   "cell_type": "markdown",
   "metadata": {},
   "source": [
    "1) Takes in input\n",
    "2) Stores user input into a dictionary or list\n",
    "3) The User can add or delete items\n",
    "4) The User can see current shopping list\n",
    "5) The program Loops until user 'quits'\n",
    "6) Upon quiting the program, print out all items in the user's list"
   ]
  },
  {
   "cell_type": "code",
   "execution_count": 37,
   "metadata": {},
   "outputs": [
    {
     "ename": "SyntaxError",
     "evalue": "invalid syntax (3645835389.py, line 110)",
     "output_type": "error",
     "traceback": [
      "\u001b[0;36m  Input \u001b[0;32mIn [37]\u001b[0;36m\u001b[0m\n\u001b[0;31m    |\u001b[0m\n\u001b[0m    ^\u001b[0m\n\u001b[0;31mSyntaxError\u001b[0m\u001b[0;31m:\u001b[0m invalid syntax\n"
     ]
    }
   ],
   "source": []
  },
  {
   "cell_type": "markdown",
   "metadata": {},
   "source": [
    "### Exercise 3"
   ]
  },
  {
   "cell_type": "markdown",
   "metadata": {},
   "source": [
    "Given a string `digits`, return a **string** of the digits + 1<br>\n",
    "\n",
    "Ex. 1<br>\n",
    "digits = '123'<br>\n",
    "Expected Output: '124'<br>\n",
    "\n",
    "Ex. 2<br>\n",
    "digits = '99'<br>\n",
    "Expected Output: '100'<br>"
   ]
  },
  {
   "cell_type": "code",
   "execution_count": null,
   "metadata": {},
   "outputs": [],
   "source": []
  }
 ],
 "metadata": {
  "kernelspec": {
   "display_name": "Python 3 (ipykernel)",
   "language": "python",
   "name": "python3"
  },
  "language_info": {
   "codemirror_mode": {
    "name": "ipython",
    "version": 3
   },
   "file_extension": ".py",
   "mimetype": "text/x-python",
   "name": "python",
   "nbconvert_exporter": "python",
   "pygments_lexer": "ipython3",
   "version": "3.9.12"
  }
 },
 "nbformat": 4,
 "nbformat_minor": 4
}
