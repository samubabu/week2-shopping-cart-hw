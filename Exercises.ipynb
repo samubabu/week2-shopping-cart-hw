{
 "cells": [
  {
   "cell_type": "markdown",
   "metadata": {},
   "source": [
    "### Weekend Shopping cart HW"
   ]
  },
  {
   "cell_type": "markdown",
   "metadata": {},
   "source": [
    "1) Takes in input\n",
    "2) Stores user input into a dictionary or list\n",
    "3) The User can add or delete items\n",
    "4) The User can see current shopping list\n",
    "5) The program Loops until user 'quits'\n",
    "6) Upon quiting the program, print out all items in the user's list"
   ]
  },
  {
   "cell_type": "code",
   "execution_count": 54,
   "metadata": {
    "scrolled": true
   },
   "outputs": [
    {
     "name": "stdout",
     "output_type": "stream",
     "text": [
      "1. Add item 2. Delete item 3. Current items 4.Quit\n",
      "Enter item:1\n",
      "Type the item you want to add to cart:banna\n",
      "Type the quantity of item you want to add to cart:5\n",
      "Enter the price per quantity:1\n",
      "1. Add item 2. Delete item 3. Current items 4.Quit\n",
      "Enter item:3\n",
      "Item in your cart:\n",
      "QUANTITY\t\t\tITEM\t\t\tPRICE\n",
      "banna\t\t\t5\t\t\t1\n"
     ]
    },
    {
     "ename": "IndexError",
     "evalue": "string index out of range",
     "output_type": "error",
     "traceback": [
      "\u001b[0;31m---------------------------------------------------------------------------\u001b[0m",
      "\u001b[0;31mIndexError\u001b[0m                                Traceback (most recent call last)",
      "Input \u001b[0;32mIn [54]\u001b[0m, in \u001b[0;36m<cell line: 16>\u001b[0;34m()\u001b[0m\n\u001b[1;32m     41\u001b[0m \u001b[38;5;28mprint\u001b[39m(\u001b[38;5;124m'\u001b[39m\u001b[38;5;124mQUANTITY\u001b[39m\u001b[38;5;124m'\u001b[39m,\u001b[38;5;124m'\u001b[39m\u001b[38;5;124mITEM\u001b[39m\u001b[38;5;124m'\u001b[39m,\u001b[38;5;124m'\u001b[39m\u001b[38;5;124mPRICE\u001b[39m\u001b[38;5;124m'\u001b[39m, sep\u001b[38;5;241m=\u001b[39m\u001b[38;5;124m\"\u001b[39m\u001b[38;5;130;01m\\t\u001b[39;00m\u001b[38;5;130;01m\\t\u001b[39;00m\u001b[38;5;130;01m\\t\u001b[39;00m\u001b[38;5;124m\"\u001b[39m)\n\u001b[1;32m     42\u001b[0m \u001b[38;5;28;01mfor\u001b[39;00m kk \u001b[38;5;129;01min\u001b[39;00m \u001b[38;5;28mrange\u001b[39m(\u001b[38;5;28mlen\u001b[39m(cart)):\n\u001b[0;32m---> 43\u001b[0m     \u001b[38;5;28mprint\u001b[39m(cart[kk],\u001b[43mquantity\u001b[49m\u001b[43m[\u001b[49m\u001b[43mkk\u001b[49m\u001b[43m]\u001b[49m,price[kk],sep\u001b[38;5;241m=\u001b[39m\u001b[38;5;124m\"\u001b[39m\u001b[38;5;130;01m\\t\u001b[39;00m\u001b[38;5;130;01m\\t\u001b[39;00m\u001b[38;5;130;01m\\t\u001b[39;00m\u001b[38;5;124m\"\u001b[39m)\n\u001b[1;32m     44\u001b[0m     \u001b[38;5;66;03m#format_cart(quantity,item,price)\u001b[39;00m\n\u001b[1;32m     45\u001b[0m \u001b[38;5;28mprint\u001b[39m(\u001b[38;5;124m\"\u001b[39m\u001b[38;5;124mThank you for shopping with us!\u001b[39m\u001b[38;5;124m\"\u001b[39m)\n",
      "\u001b[0;31mIndexError\u001b[0m: string index out of range"
     ]
    }
   ],
   "source": [
    "#create SHOPPING CART empty list\n",
    "\n",
    "cart=[]\n",
    "price=[]\n",
    "quantity=[]\n",
    "\n",
    "\n",
    "\n",
    "    \n",
    "\n",
    "    \n",
    "    \n",
    "    \n",
    "#run a loop until shopper quits\n",
    "while True:\n",
    "    print(\"1. Add item 2. Delete item 3. Current items 4.Quit\")\n",
    "#ask user to enter in cart\n",
    "    prompt=int(input(\"Enter item:\"))\n",
    "#if entered 1 then add item to the cart/list\n",
    "    if (prompt==1):\n",
    "        item=input(\"Type the item you want to add to cart:\")\n",
    "        cart.append(item)\n",
    "        quantity=(input(\"Type the quantity of item you want to add to cart:\"))\n",
    "        cart.append(quantity)\n",
    "        price=(input(\"Enter the price per quantity:\"))\n",
    "        cart.append(price)\n",
    "        \n",
    "#if entered 2 then delelte item from the cart/list\n",
    "    elif(prompt==2):\n",
    "        item=input(\"Type the item you want to delete:\")\n",
    "        cart.remove(item)\n",
    "        quantity=(input(\"Type the quantity of item you want to delete from cart:\"))\n",
    "        cart.remove(quantity)\n",
    "        price=(input(\"Enter the price per quantity:\"))\n",
    "        cart.remove(price)\n",
    "#if entered 3 then print the Current cart list\n",
    "    elif(prompt==3):\n",
    "        print('Item in your cart:')\n",
    "        \n",
    "#for quantity,item,price in cart:\n",
    "        print('QUANTITY','ITEM','PRICE', sep=\"\\t\\t\\t\")\n",
    "        for kk in range(len(cart)):\n",
    "            print(cart[kk],quantity[kk],price[kk],sep=\"\\t\\t\\t\")\n",
    "            #format_cart(quantity,item,price)\n",
    "        print(\"Thank you for shopping with us!\")\n",
    "        #and break the loop\n",
    "        break;\n",
    "#if entered anything else, the print invalid choice\n",
    "    else:\n",
    "        print(\"Invalid Choice\")"
   ]
  },
  {
   "cell_type": "markdown",
   "metadata": {},
   "source": [
    "### Exercise 2"
   ]
  },
  {
   "cell_type": "markdown",
   "metadata": {},
   "source": [
    "Given a string, return a list of all of the digits in the string.<br>\n",
    "Ex. 1 <br>\n",
    "address = \"123 Real Street, Apt. 2, Springfield, OR 43498\"<br>\n",
    "Expected Output: ['1', '2', '3', '2', '4', '3', '4', '9', '8']<br>\n",
    "\n",
    "Ex. 2 <br>\n",
    "sentence = \"My phone number is (555) 555-4321\"<br>\n",
    "Expected Output: ['5', '5', '5', '5', '5', '5', '4', '3', '2', '1']<br>"
   ]
  },
  {
   "cell_type": "code",
   "execution_count": 45,
   "metadata": {},
   "outputs": [
    {
     "ename": "NameError",
     "evalue": "name 'name' is not defined",
     "output_type": "error",
     "traceback": [
      "\u001b[0;31m---------------------------------------------------------------------------\u001b[0m",
      "\u001b[0;31mNameError\u001b[0m                                 Traceback (most recent call last)",
      "Input \u001b[0;32mIn [45]\u001b[0m, in \u001b[0;36m<cell line: 1>\u001b[0;34m()\u001b[0m\n\u001b[0;32m----> 1\u001b[0m cart \u001b[38;5;241m=\u001b[39m {\u001b[43mname\u001b[49m:price}\n\u001b[1;32m      3\u001b[0m \u001b[38;5;28;01mdef\u001b[39;00m \u001b[38;5;21mshow\u001b[39m():\n\u001b[1;32m      4\u001b[0m     \u001b[38;5;66;03m# if the cart is not empty\u001b[39;00m\n\u001b[1;32m      5\u001b[0m     \u001b[38;5;28;01mif\u001b[39;00m \u001b[38;5;28mlen\u001b[39m(cart) \u001b[38;5;241m!=\u001b[39m \u001b[38;5;241m0\u001b[39m:\n\u001b[1;32m      6\u001b[0m         \u001b[38;5;66;03m# print cart items using a for loop\u001b[39;00m\n",
      "\u001b[0;31mNameError\u001b[0m: name 'name' is not defined"
     ]
    }
   ],
   "source": [
    "cart = {name:price}\n",
    "\n",
    "def show():\n",
    "    # if the cart is not empty\n",
    "    if len(cart) != 0:\n",
    "        # print cart items using a for loop\n",
    "        print('Items in your cart: ')\n",
    "        for name, price in cart.items():\n",
    "            print('{}: {}'.format(name, price))\n",
    "\n",
    "    # if the cart is empty\n",
    "    else:\n",
    "        print('Your cart is empty')\n"
   ]
  },
  {
   "cell_type": "markdown",
   "metadata": {},
   "source": [
    "### Exercise 3"
   ]
  },
  {
   "cell_type": "markdown",
   "metadata": {},
   "source": [
    "Given a string `digits`, return a **string** of the digits + 1<br>\n",
    "\n",
    "Ex. 1<br>\n",
    "digits = '123'<br>\n",
    "Expected Output: '124'<br>\n",
    "\n",
    "Ex. 2<br>\n",
    "digits = '99'<br>\n",
    "Expected Output: '100'<br>"
   ]
  },
  {
   "cell_type": "code",
   "execution_count": null,
   "metadata": {},
   "outputs": [],
   "source": []
  }
 ],
 "metadata": {
  "kernelspec": {
   "display_name": "Python 3 (ipykernel)",
   "language": "python",
   "name": "python3"
  },
  "language_info": {
   "codemirror_mode": {
    "name": "ipython",
    "version": 3
   },
   "file_extension": ".py",
   "mimetype": "text/x-python",
   "name": "python",
   "nbconvert_exporter": "python",
   "pygments_lexer": "ipython3",
   "version": "3.9.12"
  }
 },
 "nbformat": 4,
 "nbformat_minor": 4
}
